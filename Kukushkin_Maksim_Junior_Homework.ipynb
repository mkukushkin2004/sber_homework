{
  "nbformat": 4,
  "nbformat_minor": 0,
  "metadata": {
    "colab": {
      "provenance": []
    },
    "kernelspec": {
      "name": "python3",
      "display_name": "Python 3"
    },
    "language_info": {
      "name": "python"
    }
  },
  "cells": [
    {
      "cell_type": "code",
      "source": [
        "import numpy as np\n",
        "from scipy.stats import norm"
      ],
      "metadata": {
        "id": "rseNkyZ915lV"
      },
      "execution_count": 1,
      "outputs": []
    },
    {
      "cell_type": "code",
      "source": [
        "def _gbs(S, K, T, rd, b, sigma):\n",
        "    T_sqrt = np.sqrt(T)\n",
        "    d1 = (np.log(S / K) + (b + (sigma * sigma) / 2) * T) / (sigma * T_sqrt)\n",
        "    d2 = d1 - sigma * T_sqrt\n",
        "\n",
        "    value = S * np.exp((b - rd) * T) * norm.cdf(d1) - K * np.exp(-rd * T) * norm.cdf(d2)\n",
        "    delta = np.exp((b - rd) * T) * norm.cdf(d1)\n",
        "    gamma = np.exp((b - rd) * T) * norm.pdf(d1) / (S * sigma * T_sqrt)\n",
        "    theta = -(S * sigma * np.exp((b - rd) * T) * norm.pdf(d1)) / (2 * T_sqrt) \\\n",
        "            - (b - rd) * S * np.exp((b - rd) * T) * norm.cdf(d1) \\\n",
        "            - rd * K * np.exp(-rd * T) * norm.cdf(d2)\n",
        "    vega = np.exp((b - rd) * T) * S * T_sqrt * norm.pdf(d1)\n",
        "    rho = K * T * np.exp(-rd * T) * norm.cdf(d2)\n",
        "\n",
        "    return value, delta, gamma, theta, vega, rho\n",
        "\n",
        "\n",
        "def garman_kohlhagen(S, K, T, rd, rf, sigma):\n",
        "    \"\"\"\n",
        "    Args:\n",
        "        S (float): Price of underlying asset. (domestic/foreign)\n",
        "        K (float): Strike price.\n",
        "        T (float): Time to expiration in years. 1 for one year, 0.5 for 6 months.\n",
        "        rd (float): Risk free rate.\n",
        "        rf (float): Risk free rate of the foreign currency.\n",
        "        sigma (float): Implied volatility of underlying asset.\n",
        "\n",
        "    Returns:\n",
        "        value (float): Price of the option.\n",
        "        delta (float): First derivative of value with respect to price of underlying.\n",
        "        gamma (float): Second derivative of value w.r.t price of underlying.\n",
        "        theta (float): Minus first derivative of value w.r.t. time to expiration.\n",
        "        vega (float): First derivative of value w.r.t. implied volatility.\n",
        "        rho (float): First derivative of value w.r.t. risk free rates.\n",
        "    \"\"\"\n",
        "    b = rd - rf\n",
        "    return _gbs(S, K, T, rd, b, sigma)"
      ],
      "metadata": {
        "id": "nwZLXEZxHgsR"
      },
      "execution_count": 3,
      "outputs": []
    },
    {
      "cell_type": "code",
      "source": [
        "spot = 1.0934\n",
        "strike = 0.98406 # the first type of call\n",
        "time = 1\n",
        "rate_domestic = 5.35/100\n",
        "rate_foreign = 3.662/100\n",
        "volatility = 5.56/100\n",
        "\n",
        "d1 = dict(zip(('Value','Delta','Gamma','Theta', 'Vega','Rho'),\n",
        "             garman_kohlhagen(spot, strike, time, rate_domestic, rate_foreign, volatility)))\n",
        "for key, value in d1.items():\n",
        "    print(f'{key} = {value}')"
      ],
      "metadata": {
        "colab": {
          "base_uri": "https://localhost:8080/"
        },
        "id": "-S1-wekKJ47O",
        "outputId": "8f431d04-3a0a-46a9-9aa5-b4219a704cd5"
      },
      "execution_count": 4,
      "outputs": [
        {
          "output_type": "stream",
          "name": "stdout",
          "text": [
            "Value = 0.12155808726348472\n",
            "Delta = 0.9515149698258667\n",
            "Gamma = 0.5306560547748682\n",
            "Theta = -0.01203896356672491\n",
            "Vega = 0.035273296955144307\n",
            "Rho = 0.918828380744118\n"
          ]
        }
      ]
    },
    {
      "cell_type": "code",
      "source": [
        "spot = 1.0934\n",
        "strike = 1.20274 # the second type of call\n",
        "time = 1\n",
        "rate_domestic = 5.35/100\n",
        "rate_foreign = 3.662/100\n",
        "volatility = 5.56/100\n",
        "\n",
        "d2 = dict(zip(('Value','Delta','Gamma','Theta', 'Vega','Rho'),\n",
        "             garman_kohlhagen(spot, strike, time, rate_domestic, rate_foreign, volatility)))\n",
        "for key, value in d2.items():\n",
        "    print(f'{key} = {value}')"
      ],
      "metadata": {
        "colab": {
          "base_uri": "https://localhost:8080/"
        },
        "id": "QHydW1ZyBUnR",
        "outputId": "420b4044-8db2-4ea3-c1e6-7fe59b4bacce"
      },
      "execution_count": 5,
      "outputs": [
        {
          "output_type": "stream",
          "name": "stdout",
          "text": [
            "Value = 0.0021826255289070506\n",
            "Delta = 0.08036338284204937\n",
            "Gamma = 2.4318034145094867\n",
            "Theta = -0.0058601855876780655\n",
            "Vega = 0.16164467210860026\n",
            "Rho = 0.08568669727058974\n"
          ]
        }
      ]
    },
    {
      "cell_type": "code",
      "source": [
        "C1, C2 = d1['Value'], d2['Value'] # in USD\n",
        "delta_1, delta_2 = d1['Delta'], d2['Delta']\n",
        "gamma_1, gamma_2 = d1['Gamma'], d2['Gamma']\n",
        "theta_1, theta_2 = d1['Theta'], d2['Theta']\n",
        "a = np.array([[delta_1, -delta_2, 1],[gamma_1, -gamma_2, 0],[1, 1, 1]])\n",
        "b = np.array([0, 0, 1])\n",
        "x = np.linalg.solve(a, b)\n",
        "n1, n2, n3 = x # optimal proportions of capital allocation\n",
        "print(n1, n2, n3)\n",
        "print(n1/n2)\n",
        "print(abs(n3)/abs(n2))"
      ],
      "metadata": {
        "colab": {
          "base_uri": "https://localhost:8080/"
        },
        "id": "5GXOiQuyBma2",
        "outputId": "c4ec309f-53ae-4b1b-d665-9c2c5f174d6c"
      },
      "execution_count": 6,
      "outputs": [
        {
          "output_type": "stream",
          "name": "stdout",
          "text": [
            "3.518196275889422 0.7677233054891869 -3.2859195813786095\n",
            "4.582635763086099\n",
            "4.280083146993759\n"
          ]
        }
      ]
    },
    {
      "cell_type": "code",
      "source": [
        "V = 100000 # in USD\n",
        "N2 = V / (spot*abs(n3)/n2 - C2 + C1*n1/n2)\n",
        "print(N2)"
      ],
      "metadata": {
        "colab": {
          "base_uri": "https://localhost:8080/"
        },
        "id": "0WkIUwhnBqwv",
        "outputId": "639ae5a1-abe6-40a9-d173-1825ed943700"
      },
      "execution_count": 7,
      "outputs": [
        {
          "output_type": "stream",
          "name": "stdout",
          "text": [
            "19103.2304604295\n"
          ]
        }
      ]
    },
    {
      "cell_type": "code",
      "source": [
        "N1 = n1/n2*N2\n",
        "N3 = abs(n3)/n2*N2\n",
        "print(N1)\n",
        "print(N2)\n",
        "print(N3)"
      ],
      "metadata": {
        "colab": {
          "base_uri": "https://localhost:8080/"
        },
        "id": "58b_gDcEC2ui",
        "outputId": "7b2191b3-2afd-4841-bc71-c13a4df383ed"
      },
      "execution_count": 12,
      "outputs": [
        {
          "output_type": "stream",
          "name": "stdout",
          "text": [
            "87543.14709843995\n",
            "19103.2304604295\n",
            "81763.41474682212\n"
          ]
        }
      ]
    },
    {
      "cell_type": "code",
      "source": [
        "print(np.isclose(V - N1*C1 + N2*C2 - abs(N3)*spot, 0)) # checking that everytin came together"
      ],
      "metadata": {
        "colab": {
          "base_uri": "https://localhost:8080/"
        },
        "id": "euZHFpnGDWCy",
        "outputId": "f7b7e951-980a-48a1-86ed-0692431d025e"
      },
      "execution_count": 13,
      "outputs": [
        {
          "output_type": "stream",
          "name": "stdout",
          "text": [
            "True\n"
          ]
        }
      ]
    },
    {
      "cell_type": "code",
      "source": [
        "print(abs(N3)*spot) # the number of dollars kept in our portfolio"
      ],
      "metadata": {
        "colab": {
          "base_uri": "https://localhost:8080/"
        },
        "id": "MAB2KXErEbDU",
        "outputId": "e24e0a96-5253-41da-8270-b35f5362bca1"
      },
      "execution_count": 14,
      "outputs": [
        {
          "output_type": "stream",
          "name": "stdout",
          "text": [
            "89400.1176841753\n"
          ]
        }
      ]
    },
    {
      "cell_type": "code",
      "source": [
        "Theta = N1*theta_1-N2*theta_2 # portfolio theta\n",
        "print(Theta)\n",
        "print(Theta/252) # theta in trading days"
      ],
      "metadata": {
        "colab": {
          "base_uri": "https://localhost:8080/"
        },
        "id": "2Jw0gealXTiM",
        "outputId": "db920428-20bd-4453-9fec-91e8db65ed6c"
      },
      "execution_count": 15,
      "outputs": [
        {
          "output_type": "stream",
          "name": "stdout",
          "text": [
            "-941.9802826122564\n",
            "-3.738016994493081\n"
          ]
        }
      ]
    }
  ]
}